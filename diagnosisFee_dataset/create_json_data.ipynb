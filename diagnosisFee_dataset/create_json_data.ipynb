{
 "cells": [
  {
   "cell_type": "code",
   "execution_count": 1,
   "metadata": {},
   "outputs": [],
   "source": [
    "#jsonファイルの作成\n",
    "import json\n",
    "import os\n",
    "\n"
   ]
  },
  {
   "cell_type": "code",
   "execution_count": 2,
   "metadata": {},
   "outputs": [],
   "source": [
    "#変数の宣言\n",
    "json_file = \"diagnosis_data.json\""
   ]
  },
  {
   "cell_type": "code",
   "execution_count": 10,
   "metadata": {},
   "outputs": [],
   "source": [
    "\n",
    "\n",
    "def create_or_update_medical_record(id, age, sex, medicalrecord, warning, diagnosisfee):\n",
    "    \"\"\"\n",
    "    Create or update a medical record in a JSON file. If the file does not exist, it will be created.\n",
    "    If an ID is already present, the record will be updated; otherwise, it will be added.\n",
    "\n",
    "    Parameters:\n",
    "    - id (int): Patient's ID.\n",
    "    - age (int): Patient's age.\n",
    "    - sex (str): Patient's sex.\n",
    "    - medicalrecord (str): カルテ.\n",
    "    - warning (str?): カルテ記載の医師が診療報酬に関する情報提供.\n",
    "    - diagnosisfee (list): 診療報酬の具体的な項目.\n",
    "    - filename (str): The name of the file to save the JSON data.\n",
    "    \"\"\"\n",
    "    try:\n",
    "        # Try to load the existing data\n",
    "        with open(json_file, 'r') as f:\n",
    "            records = json.load(f)\n",
    "    except FileNotFoundError:\n",
    "        # If the file does not exist, start with an empty dictionary\n",
    "        records = {}\n",
    "\n",
    "    # Update or add the new record\n",
    "    records[str(id)] = {  # Use string keys for consistency in JSON files\n",
    "        'age': age,\n",
    "        'sex': sex,\n",
    "        'medicalrecord': medicalrecord,\n",
    "        'warning': warning,\n",
    "        'diagnosisfee': diagnosisfee\n",
    "    }\n",
    "\n",
    "    # Write the updated dictionary back to the JSON file\n",
    "    with open(json_file, 'w') as f:\n",
    "        json.dump(records, f, indent=4, ensure_ascii=False)\n",
    "        \n",
    "    print(f'Medical record for ID {id} saved to {json_file}.')\n",
    "\n",
    "# 使用例\n",
    "# create_or_update_medical_record(1, 30, 'male', 'Patient has a history of asthma.', '注意事項', ['診察料', '薬剤料'], 'medical_records.json')\n"
   ]
  },
  {
   "cell_type": "code",
   "execution_count": 15,
   "metadata": {},
   "outputs": [],
   "source": [
    "id=1\n",
    "age=30\n",
    "sex='male'\n",
    "medicalrecord='''\n",
    "S (Subjective):\n",
    "* 主訴: 特に新しい症状はなし。\n",
    "* 現病歴: 高血圧のため、毎日血圧を測定しており、最近の血圧は140/90 mmHg程度で安定している。時折、頭痛があるが、過去数ヶ月での頻度や強度に変化はない。\n",
    "O (Objective):\n",
    "* 血圧: 138/88 mmHg\n",
    "* 心拍数: 78 bpm、整\n",
    "* 身体検査: 心音、呼吸音に異常なし。浮腫も見られない。\n",
    "A (Assessment):\n",
    "* 高血圧症。現在の治療計画で血圧は比較的安定しており、目標血圧値（<140/90 mmHg）を達成している。\n",
    "* 頭痛については、高血圧に関連している可能性があるが、現在のところ重篤な問題は示唆されていない。\n",
    "P (Plan):\n",
    "* \t\t現在の高血圧治療薬（ACE阻害薬）を継続。\n",
    "* \t\t毎日の血圧測定を続け、記録を保持するよう指導。\n",
    "* \t\t頭痛の症状に変化があった場合は、即時に連絡するように指導。\n",
    "* \t\t生活習慣の改善を継続促進（塩分制限、定期的な運動、健康的な食事）。\n",
    "* \t\t次回診察は3ヶ月後に設定。\n",
    "\n",
    "'''\n",
    "warning=''\n",
    "diagnosisfee=['Ｃ００５ 在宅患者訪問看護・指導料','Ａ００１ 再診料']"
   ]
  },
  {
   "cell_type": "code",
   "execution_count": 16,
   "metadata": {},
   "outputs": [
    {
     "name": "stdout",
     "output_type": "stream",
     "text": [
      "Medical record for ID 1 saved to medical_records.json.\n"
     ]
    }
   ],
   "source": [
    "create_or_update_medical_record(\n",
    "    id=id,\n",
    "    age=age,\n",
    "    sex=sex,\n",
    "    medicalrecord=medicalrecord,\n",
    "    warning=warning,\n",
    "    diagnosisfee=diagnosisfee\n",
    "\n",
    ")"
   ]
  },
  {
   "cell_type": "code",
   "execution_count": 17,
   "metadata": {},
   "outputs": [],
   "source": [
    "id=2\n",
    "age=34\n",
    "sex='female'\n",
    "medicalrecord='''\n",
    "S (Subjective):\n",
    "* 主訴: 特に新しい症状はなし。\n",
    "* 現病歴: 高血圧のため、毎日血圧を測定しており、最近の血圧は140/90 mmHg程度で安定している。時折、頭痛があるが、過去数ヶ月での頻度や強度に変化はない。\n",
    "O (Objective):\n",
    "* 血圧: 138/88 mmHg\n",
    "* 心拍数: 78 bpm、整\n",
    "* 身体検査: 心音、呼吸音に異常なし。浮腫も見られない。\n",
    "A (Assessment):\n",
    "* 高血圧症。現在の治療計画で血圧は比較的安定しており、目標血圧値（<140/90 mmHg）を達成している。\n",
    "* 頭痛については、高血圧に関連している可能性があるが、現在のところ重篤な問題は示唆されていない。\n",
    "P (Plan):\n",
    "* \t\t現在の高血圧治療薬（ACE阻害薬）を継続。\n",
    "* \t\t毎日の血圧測定を続け、記録を保持するよう指導。\n",
    "* \t\t頭痛の症状に変化があった場合は、即時に連絡するように指導。\n",
    "* \t\t生活習慣の改善を継続促進（塩分制限、定期的な運動、健康的な食事）。\n",
    "* \t\t次回診察は3ヶ月後に設定。\n",
    "\n",
    "'''\n",
    "warning=''\n",
    "diagnosisfee=['Ｃ００５ 在宅患者訪問看護・指導料','Ａ００１ 再診料']"
   ]
  },
  {
   "cell_type": "code",
   "execution_count": 18,
   "metadata": {},
   "outputs": [
    {
     "name": "stdout",
     "output_type": "stream",
     "text": [
      "Medical record for ID 2 saved to medical_records.json.\n"
     ]
    }
   ],
   "source": [
    "create_or_update_medical_record(\n",
    "    id=id,\n",
    "    age=age,\n",
    "    sex=sex,\n",
    "    medicalrecord=medicalrecord,\n",
    "    warning=warning,\n",
    "    diagnosisfee=diagnosisfee\n",
    "\n",
    ")"
   ]
  }
 ],
 "metadata": {
  "kernelspec": {
   "display_name": "Python 3",
   "language": "python",
   "name": "python3"
  },
  "language_info": {
   "codemirror_mode": {
    "name": "ipython",
    "version": 3
   },
   "file_extension": ".py",
   "mimetype": "text/x-python",
   "name": "python",
   "nbconvert_exporter": "python",
   "pygments_lexer": "ipython3",
   "version": "3.11.7"
  }
 },
 "nbformat": 4,
 "nbformat_minor": 2
}
