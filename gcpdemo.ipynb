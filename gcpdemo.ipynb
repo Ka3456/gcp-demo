{
 "cells": [
  {
   "cell_type": "code",
   "execution_count": 1,
   "id": "b0046a87-5dd9-45d4-adb2-a4f3df5fe880",
   "metadata": {
    "tags": []
   },
   "outputs": [
    {
     "name": "stdout",
     "output_type": "stream",
     "text": [
      "Hello World\n"
     ]
    }
   ],
   "source": [
    "print('Hello World')"
   ]
  },
  {
   "cell_type": "code",
   "execution_count": 3,
   "id": "3490cae6-e9e6-4e44-bd42-2417b46b4b91",
   "metadata": {},
   "outputs": [
    {
     "name": "stdout",
     "output_type": "stream",
     "text": [
      "3.9.6 (default, Dec  7 2023, 05:42:47) \n",
      "[Clang 15.0.0 (clang-1500.1.0.2.5)]\n"
     ]
    }
   ],
   "source": [
    "import sys\n",
    "import platform\n",
    "print(sys.version)"
   ]
  },
  {
   "cell_type": "code",
   "execution_count": 6,
   "id": "08a0fba7",
   "metadata": {},
   "outputs": [
    {
     "name": "stdout",
     "output_type": "stream",
     "text": [
      "3.9.6\n"
     ]
    }
   ],
   "source": [
    "python_version = platform.python_version()\n",
    "print(python_version)\n",
    "#update\n"
   ]
  },
  {
   "cell_type": "code",
   "execution_count": 7,
   "id": "d78fef9e",
   "metadata": {},
   "outputs": [
    {
     "name": "stdout",
     "output_type": "stream",
     "text": [
      "Test World\n"
     ]
    }
   ],
   "source": [
    "print('Test World')"
   ]
  }
 ],
 "metadata": {
  "environment": {
   "kernel": "python3",
   "name": "common-cpu.m116",
   "type": "gcloud",
   "uri": "gcr.io/deeplearning-platform-release/base-cpu:m116"
  },
  "kernelspec": {
   "display_name": "Python 3 (Local)",
   "language": "python",
   "name": "python3"
  },
  "language_info": {
   "codemirror_mode": {
    "name": "ipython",
    "version": 3
   },
   "file_extension": ".py",
   "mimetype": "text/x-python",
   "name": "python",
   "nbconvert_exporter": "python",
   "pygments_lexer": "ipython3",
   "version": "3.9.6"
  }
 },
 "nbformat": 4,
 "nbformat_minor": 5
}
